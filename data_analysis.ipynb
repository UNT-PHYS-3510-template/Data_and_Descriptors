{
 "cells": [
  {
   "cell_type": "code",
   "execution_count": 1,
   "metadata": {},
   "outputs": [],
   "source": [
    "import numpy as np\n",
    "import matplotlib.pyplot as plt\n",
    "import pandas as pd"
   ]
  },
  {
   "cell_type": "code",
   "execution_count": 8,
   "metadata": {},
   "outputs": [],
   "source": [
    "protein=pd.read_csv('protein_environ.csv')"
   ]
  },
  {
   "cell_type": "code",
   "execution_count": 12,
   "metadata": {},
   "outputs": [
    {
     "name": "stdout",
     "output_type": "stream",
     "text": [
      "<class 'pandas.core.frame.DataFrame'>\n",
      "RangeIndex: 753 entries, 0 to 752\n",
      "Data columns (total 17 columns):\n",
      " #   Column         Non-Null Count  Dtype  \n",
      "---  ------         --------------  -----  \n",
      " 0   ELEMENT        753 non-null    object \n",
      " 1   R              753 non-null    float64\n",
      " 2   SUR_CONT_5.0   753 non-null    float64\n",
      " 3   SUR_CONT_10.0  753 non-null    float64\n",
      " 4   SUR_CONT_15.0  753 non-null    float64\n",
      " 5   SUR_CONT_20.0  753 non-null    float64\n",
      " 6   SUR_CONT_25.0  753 non-null    float64\n",
      " 7   SUR_CONT_30.0  753 non-null    float64\n",
      " 8   VOL_CONT_5.0   753 non-null    float64\n",
      " 9   VOL_CONT_10.0  753 non-null    float64\n",
      " 10  VOL_CONT_15.0  753 non-null    float64\n",
      " 11  VOL_CONT_20.0  753 non-null    float64\n",
      " 12  VOL_CONT_25.0  753 non-null    float64\n",
      " 13  VOL_CONT_30.0  753 non-null    float64\n",
      " 14  X              753 non-null    float64\n",
      " 15  Y              753 non-null    float64\n",
      " 16  Z              753 non-null    float64\n",
      "dtypes: float64(16), object(1)\n",
      "memory usage: 100.1+ KB\n"
     ]
    }
   ],
   "source": [
    "protein.info()"
   ]
  },
  {
   "cell_type": "code",
   "execution_count": 16,
   "metadata": {},
   "outputs": [
    {
     "data": {
      "text/plain": [
       "H    365\n",
       "C    242\n",
       "O     76\n",
       "N     64\n",
       "S      6\n",
       "Name: ELEMENT, dtype: int64"
      ]
     },
     "execution_count": 16,
     "metadata": {},
     "output_type": "execute_result"
    }
   ],
   "source": [
    "protein['ELEMENT'].value_counts()"
   ]
  },
  {
   "cell_type": "code",
   "execution_count": null,
   "metadata": {},
   "outputs": [],
   "source": []
  }
 ],
 "metadata": {
  "interpreter": {
   "hash": "31f2aee4e71d21fbe5cf8b01ff0e069b9275f58929596ceb00d14d90e3e16cd6"
  },
  "kernelspec": {
   "display_name": "Python 3.8.9 64-bit",
   "language": "python",
   "name": "python3"
  },
  "language_info": {
   "codemirror_mode": {
    "name": "ipython",
    "version": 3
   },
   "file_extension": ".py",
   "mimetype": "text/x-python",
   "name": "python",
   "nbconvert_exporter": "python",
   "pygments_lexer": "ipython3",
   "version": "3.8.9"
  },
  "orig_nbformat": 4
 },
 "nbformat": 4,
 "nbformat_minor": 2
}
